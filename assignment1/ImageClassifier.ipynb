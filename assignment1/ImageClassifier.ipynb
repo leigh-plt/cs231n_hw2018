{
 "cells": [
  {
   "cell_type": "code",
   "execution_count": 1,
   "metadata": {},
   "outputs": [],
   "source": [
    "import os\n",
    "import numpy as np\n",
    "import pickle\n",
    "import matplotlib.pyplot as plt\n",
    "\n",
    "%matplotlib inline\n",
    "np.random.seed(1)"
   ]
  },
  {
   "cell_type": "code",
   "execution_count": 2,
   "metadata": {},
   "outputs": [],
   "source": [
    "def load_CIFAR_batch(filename):\n",
    "  \"\"\" load single batch of cifar \"\"\"\n",
    "  with open(filename, 'rb') as f:\n",
    "    datadict = pickle.load(f, encoding='latin1')\n",
    "    X = datadict['data']\n",
    "    Y = datadict['labels']\n",
    "    X = X.reshape(10000, 3, 32, 32).transpose(0,2,3,1).astype(\"float\")\n",
    "    Y = np.array(Y)\n",
    "    return X, Y"
   ]
  },
  {
   "cell_type": "code",
   "execution_count": 3,
   "metadata": {},
   "outputs": [],
   "source": [
    "x_train, y_train = load_CIFAR_batch('cifar-10/data_batch_1')"
   ]
  },
  {
   "cell_type": "code",
   "execution_count": 4,
   "metadata": {},
   "outputs": [],
   "source": [
    "x_test, y_test = load_CIFAR_batch('cifar-10/data_batch_3')"
   ]
  },
  {
   "cell_type": "code",
   "execution_count": 5,
   "metadata": {},
   "outputs": [
    {
     "data": {
      "image/png": "[encoded data removed]",
      "text/plain": [
       "<Figure size 432x288 with 1 Axes>"
      ]
     },
     "metadata": {
      "needs_background": "light"
     },
     "output_type": "display_data"
    }
   ],
   "source": [
    "plt.imshow(x_train[4].astype('int'));"
   ]
  },
  {
   "cell_type": "code",
   "execution_count": 6,
   "metadata": {},
   "outputs": [],
   "source": [
    "class Linear():\n",
    "    \n",
    "    def __init__(self, in_features, out_features):\n",
    "        \n",
    "        # define weights\n",
    "        self.w = np.random.randn(in_features, out_features)*0.01\n",
    "        self.b = np.zeros(out_features)\n",
    "        \n",
    "        # define cache and grads\n",
    "        self.inputs = None\n",
    "        self.dw = None\n",
    "        self.db = None\n",
    "        \n",
    "    def forward(self, x):\n",
    "        # save inputs for backward pass\n",
    "        self.inputs = x\n",
    "        return x.dot(self.w) + self.b[np.newaxis, :]\n",
    "    \n",
    "    def backward(self, dout):\n",
    "        \n",
    "        assert self.inputs is not None, 'Use backward after forward'\n",
    "        N = dout.shape[0]\n",
    "        dinputs = dout.dot(self.w.T).reshape(self.inputs.shape)\n",
    "        self.dw = self.inputs.reshape(N, -1).T.dot(dout)\n",
    "        self.db = dout.sum(axis = 0)\n",
    "        \n",
    "        # reset cache: inputs -> None\n",
    "        self.inputs = None\n",
    "        return dinputs\n",
    "\n",
    "    def step(self, lr=0.01):\n",
    "        assert self.dw is not None, 'Update weights only after backward'\n",
    "        self.w -= lr*self.dw\n",
    "        self.b -= lr*self.db\n",
    "        \n",
    "        # reset gradients: dw, db -> None\n",
    "        self.dw = None\n",
    "        self.db = None"
   ]
  },
  {
   "cell_type": "code",
   "execution_count": 7,
   "metadata": {},
   "outputs": [],
   "source": [
    "class ReLU():\n",
    "    \n",
    "    def __init__(self):\n",
    "\n",
    "        # define cache\n",
    "        self.inputs = None\n",
    "\n",
    "    def forward(self, x):\n",
    "        # save inputs for backward pass\n",
    "        self.inputs = x\n",
    "        return np.maximum(x, 0)\n",
    "    \n",
    "    def backward(self, dout):\n",
    "        \n",
    "        assert self.inputs is not None, 'Use backward after forward'\n",
    "        dinputs = dout * np.greater(self.inputs, 0).astype('int64')\n",
    "        \n",
    "        # reset cache: inputs -> None\n",
    "        self.inputs = None\n",
    "        return dinputs\n",
    "\n",
    "    def step(self, lr=0.01):\n",
    "        pass\n",
    "    \n",
    "class Sigmoid():\n",
    "\n",
    "    def forward(self, x):\n",
    "        return 1/(1+np.exp(-x))\n",
    "    \n",
    "    def backward(self, dout): \n",
    "        return np.exp(-dout)/((1+np.exp(-dout))**2)\n",
    "\n",
    "    def step(self, lr=0.01):\n",
    "        pass"
   ]
  },
  {
   "cell_type": "code",
   "execution_count": 8,
   "metadata": {},
   "outputs": [],
   "source": [
    "def one_hot(y, classes=10):\n",
    "    y_bin = np.zeros((y.shape[0], classes))\n",
    "    y_bin[np.arange(len(y)), y] +=1\n",
    "    return y_bin\n",
    "\n",
    "def logist_loss(x, y):\n",
    "    dout = x - y\n",
    "    loss = dout.sum(axis=1).mean()\n",
    "    return loss, dout\n",
    "\n",
    "def softmax_loss(X, y):\n",
    "\n",
    "    scores = np.exp(X)\n",
    "    scores = scores/scores.sum(axis = 1, keepdims=True)\n",
    "    loss = -(np.log(scores) * y).sum(axis = 1).mean()\n",
    "    dout = scores - y\n",
    "    return loss, dout"
   ]
  },
  {
   "cell_type": "code",
   "execution_count": 9,
   "metadata": {},
   "outputs": [],
   "source": [
    "class NeuralNet():\n",
    "    def __init__(self, in_features, hiddens, classes=10):\n",
    "        \n",
    "        self.classes = classes\n",
    "        self.layers = []\n",
    "\n",
    "        for hidden in hiddens:\n",
    "            self.layers.append(Linear(in_features, hidden))\n",
    "            self.layers.append(ReLU())\n",
    "            in_features = hidden\n",
    "            \n",
    "        self.layers.append(Linear(in_features, classes))\n",
    "#         self.layers.append(Sigmoid())\n",
    "        \n",
    "    def forward(self, x):\n",
    "        for layer in self.layers:\n",
    "            x = layer.forward(x)\n",
    "        return x\n",
    "    \n",
    "    def backward(self, dout):\n",
    "        for layer in reversed(self.layers):\n",
    "            dout = layer.backward(dout)\n",
    "            \n",
    "    def step(self, lr=1e-7):\n",
    "        for layer in self.layers:\n",
    "            dout = layer.step(lr)\n",
    "    \n",
    "    def fit(self, X, y, epoches, log_step = 100, lr=1e-7):\n",
    "        X = X.reshape(X.shape[0], -1)\n",
    "        y = one_hot(y, self.classes)\n",
    "        for e in range(epoches):\n",
    "            score = self.forward(X)\n",
    "            loss, dout = softmax_loss(score, y)\n",
    "            if e % log_step == 0:\n",
    "                print('Loss: ', loss)\n",
    "            self.backward(dout)\n",
    "            self.step(lr)\n",
    "            \n",
    "    def predict(self, X):\n",
    "        X = X.reshape(X.shape[0], -1)\n",
    "        return np.argmax(self.forward(X), 1)"
   ]
  },
  {
   "cell_type": "code",
   "execution_count": 10,
   "metadata": {},
   "outputs": [],
   "source": [
    "m = NeuralNet(32*32*3, [32, 16])"
   ]
  },
  {
   "cell_type": "code",
   "execution_count": 11,
   "metadata": {},
   "outputs": [
    {
     "name": "stdout",
     "output_type": "stream",
     "text": [
      "Loss:  2.3000670974743413\n",
      "Loss:  2.223920651806414\n",
      "Loss:  2.0646061224477728\n",
      "Loss:  2.0141965217598625\n",
      "Loss:  1.9630135635225947\n",
      "Loss:  1.917406357854835\n",
      "Loss:  1.8873606937286327\n",
      "Loss:  1.8613881321231887\n",
      "Loss:  1.8349452071206396\n",
      "Loss:  1.8142299324507913\n"
     ]
    }
   ],
   "source": [
    "m.fit(x_train, y_train, 1000, lr=1e-7)"
   ]
  },
  {
   "cell_type": "code",
   "execution_count": 12,
   "metadata": {},
   "outputs": [
    {
     "name": "stdout",
     "output_type": "stream",
     "text": [
      "Softmax on raw pixels final test set accuracy: 0.348300\n"
     ]
    }
   ],
   "source": [
    "y_test_pred = m.predict(x_test)\n",
    "test_accuracy = np.mean(y_test == y_test_pred)\n",
    "print('Softmax on raw pixels final test set accuracy: %f' % (test_accuracy, ))"
   ]
  }
 ],
 "metadata": {
  "kernelspec": {
   "display_name": "Python 3",
   "language": "python",
   "name": "python3"
  },
  "language_info": {
   "codemirror_mode": {
    "name": "ipython",
    "version": 3
   },
   "file_extension": ".py",
   "mimetype": "text/x-python",
   "name": "python",
   "nbconvert_exporter": "python",
   "pygments_lexer": "ipython3",
   "version": "3.7.4"
  }
 },
 "nbformat": 4,
 "nbformat_minor": 2
}
